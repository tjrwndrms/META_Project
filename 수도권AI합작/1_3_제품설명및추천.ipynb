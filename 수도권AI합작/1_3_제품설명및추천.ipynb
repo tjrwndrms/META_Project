{
 "cells": [
  {
   "cell_type": "markdown",
   "metadata": {},
   "source": [
    "### 1. 라이브 커머스 다시 보기 영상 다운 후 mp3 파일로 변경"
   ]
  },
  {
   "cell_type": "code",
   "execution_count": 4,
   "metadata": {},
   "outputs": [
    {
     "name": "stdout",
     "output_type": "stream",
     "text": [
      "MoviePy - Writing audio in ./test_video.mp3\n"
     ]
    },
    {
     "name": "stderr",
     "output_type": "stream",
     "text": [
      "                                                                        "
     ]
    },
    {
     "name": "stdout",
     "output_type": "stream",
     "text": [
      "MoviePy - Done.\n"
     ]
    },
    {
     "name": "stderr",
     "output_type": "stream",
     "text": [
      "\r"
     ]
    }
   ],
   "source": [
    "from moviepy.editor import *\n",
    "\n",
    "video = VideoFileClip('./test_video.mkv')\n",
    "\n",
    "video.audio.write_audiofile('./test_video.mp3')"
   ]
  },
  {
   "cell_type": "markdown",
   "metadata": {},
   "source": [
    "### 2. MP3 파일을 텍스트로 변환"
   ]
  },
  {
   "cell_type": "code",
   "execution_count": 5,
   "metadata": {},
   "outputs": [
    {
     "name": "stderr",
     "output_type": "stream",
     "text": [
      "c:\\Users\\Admin\\miniconda3\\envs\\gumi_env310\\lib\\site-packages\\transformers\\models\\whisper\\generation_whisper.py:483: FutureWarning: The input name `inputs` is deprecated. Please make sure to use `input_features` instead.\n",
      "  warnings.warn(\n",
      "c:\\Users\\Admin\\miniconda3\\envs\\gumi_env310\\lib\\site-packages\\torch\\nn\\modules\\conv.py:306: UserWarning: Plan failed with a cudnnException: CUDNN_BACKEND_EXECUTION_PLAN_DESCRIPTOR: cudnnFinalize Descriptor Failed cudnn_status: CUDNN_STATUS_NOT_SUPPORTED (Triggered internally at ..\\aten\\src\\ATen\\native\\cudnn\\Conv_v8.cpp:919.)\n",
      "  return F.conv1d(input, weight, bias, self.stride,\n"
     ]
    }
   ],
   "source": [
    "import torch\n",
    "from transformers import AutoModelForSpeechSeq2Seq, AutoProcessor, pipeline\n",
    "\n",
    "device = \"cuda\" if torch.cuda.is_available() else 'cpu'\n",
    "torch_dtype = torch.float16 if torch.cuda.is_available() else torch.float32\n",
    "model_id = \"openai/whisper-large-v3\"\n",
    "# model_id = \"openai/whisper-medium\"\n",
    "\n",
    "\n",
    "model = AutoModelForSpeechSeq2Seq.from_pretrained(\n",
    "    model_id, torch_dtype=torch_dtype, low_cpu_mem_usage=True, use_safetensors=True\n",
    ")\n",
    "\n",
    "model.to(device)\n",
    "processor = AutoProcessor.from_pretrained(model_id)\n",
    "pipe = pipeline(\n",
    "    \"automatic-speech-recognition\",\n",
    "    model=model,\n",
    "    tokenizer=processor.tokenizer,\n",
    "    feature_extractor=processor.feature_extractor,\n",
    "    max_new_tokens = 64,\n",
    "    chunk_length_s = 10,\n",
    "    batch_size = 8,\n",
    "    return_timestamps = True,\n",
    "    torch_dtype=torch_dtype,\n",
    "    device=device\n",
    ")\n",
    "\n",
    "speech_output_path = './test_video.mp3'\n",
    "result_openai = pipe(speech_output_path)\n",
    "\n",
    "with open('stt_file.txt', 'w', encoding='utf-8') as stt_file:\n",
    "    stt_file.write(result_openai[\"text\"])"
   ]
  },
  {
   "cell_type": "markdown",
   "metadata": {},
   "source": [
    "### 3. 텍스트 속 제품 내용 추출"
   ]
  },
  {
   "cell_type": "code",
   "execution_count": 11,
   "metadata": {},
   "outputs": [
    {
     "name": "stdout",
     "output_type": "stream",
     "text": [
      "{'intermediate_steps': ['제품 정보 추출 결과:\\n\\n- **제품명**: 아미퓨어 갈락토 세럼 미스트\\n- **주요 성분**: 갈락토미세스 발효 여과물 (90% 함유)\\n- **제품 효과**: 보습, 피부 결 개선, 속보습, 광채 효과, 각질 케어\\n- **사용 방법**: 얼굴에 가볍게 뿌리거나 화장솜에 적셔서 팩처럼 사용\\n- **프로모션 정보**: 1,000원 할인 쿠폰 제공, 2개 구매 시 36% 할인\\n- **배송일 정보**: 무료배송\\n- **가격 정보**: 24,500원 (할인 후 23,500원), 2개 세트 45,000원 (할인 후 44,000원)\\n- **고객 후기**: 수분감 유지, 피부결 개선, 가벼운 사용감, 각질 케어 효과\\n- **유통기한/보관 정보**: 정보 없음\\n- **구성품 정보**: 세니타이저 2개 (1개 구매 시), 4개 (2개 구매 시)\\n- **대상 고객**: 남녀노소, 피부 고민이 있는 모든 고객\\n- **특별 주의사항**: 예민한 피부도 사용 가능, 손대지 않고 뿌려서 사용 권장\\n- **배송비 및 조건**: 무료배송\\n- **제품의 세부 사용법**: 스킨팩으로 사용 가능, 메이크업 전후에 사용 가능\\n- **성분의 상세 설명과 효과**: 갈락토미세스 성분이 피부 결을 부드럽게 하고, 속보습을 제공하며, 광채를 더함\\n- **스트리머의 사용 후기**: 피부가 예민할 때도 사용 가능, 즉각적인 수분 공급 효과\\n\\n이 정보는 제품에 대한 전반적인 이해를 돕기 위해 요약된 것입니다.'], 'output_text': '**제품 정보 요약: 아미퓨어 갈락토 세럼 미스트**\\n\\n- **제품명**: 아미퓨어 갈락토 세럼 미스트\\n- **주요 성분**: 갈락토미세스 발효 여과물 (90% 함유)\\n- **효과**: \\n  - 보습\\n  - 피부 결 개선\\n  - 속보습\\n  - 광채 효과\\n  - 각질 케어\\n- **사용 방법**: \\n  - 얼굴에 가볍게 뿌리거나\\n  - 화장솜에 적셔서 팩처럼 사용\\n- **프로모션**: \\n  - 1,000원 할인 쿠폰 제공\\n  - 2개 구매 시 36% 할인\\n- **가격**: \\n  - 24,500원 (할인 후 23,500원)\\n  - 2개 세트 45,000원 (할인 후 44,000원)\\n- **배송**: 무료배송\\n- **고객 후기**: \\n  - 수분감 유지\\n  - 피부결 개선\\n  - 가벼운 사용감\\n  - 각질 케어 효과\\n- **대상 고객**: 남녀노소, 피부 고민이 있는 모든 고객\\n- **특별 주의사항**: \\n  - 예민한 피부도 사용 가능\\n  - 손대지 않고 뿌려서 사용 권장\\n- **세부 사용법**: \\n  - 스킨팩으로 사용 가능\\n  - 메이크업 전후에 사용 가능\\n- **성분 효과**: 갈락토미세스 성분이 피부 결을 부드럽게 하고, 속보습을 제공하며, 광채를 더함\\n- **스트리머 사용 후기**: 피부가 예민할 때도 사용 가능, 즉각적인 수분 공급 효과\\n- **구성품**: \\n  - 1개 구매 시 세니타이저 2개\\n  - 2개 구매 시 세니타이저 4개\\n\\n이 정보는 아미퓨어 갈락토 세럼 미스트에 대한 전반적인 이해를 돕기 위해 요약되었습니다.'}\n",
      "추출된 제품명: 아미퓨어 갈락토 세럼 미스트\n"
     ]
    }
   ],
   "source": [
    "import os\n",
    "from langchain.document_loaders import TextLoader\n",
    "from langchain.chains.summarize import load_summarize_chain\n",
    "from langchain import PromptTemplate\n",
    "from langchain.chat_models import ChatOpenAI\n",
    "from langchain.text_splitter import RecursiveCharacterTextSplitter\n",
    "from dotenv import load_dotenv\n",
    "\n",
    "load_dotenv()\n",
    "\n",
    "# 문서 로딩\n",
    "loader = TextLoader('./stt_file.txt', encoding='utf-8')\n",
    "document = loader.load()\n",
    "\n",
    "# 텍스트 분할 설정\n",
    "text_splitter = RecursiveCharacterTextSplitter(separators=[\"\\n\\n\", \"\\n\"], chunk_size=3000, chunk_overlap=300)\n",
    "\n",
    "def extract_product_info(review):\n",
    "    docs = text_splitter.create_documents([review])\n",
    "\n",
    "    # 제품 정보를 추출하기 위한 프롬프트 템플릿\n",
    "    map_prompt_template = '''다음 텍스트에서 제품 정보를 추출해주세요:\n",
    "    - 제품명\n",
    "    - 주요 성분\n",
    "    - 제품 효과\n",
    "    - 사용 방법\n",
    "    - 프로모션 정보\n",
    "    - 배송일 정보\n",
    "    - 가격 정보\n",
    "    - 고객 후기\n",
    "    - 유통기한/보관 정보\n",
    "    - 구성품 정보\n",
    "    - 대상 고객\n",
    "    - 특별 주의사항\n",
    "    - 배송비 및 조건\n",
    "    - 제품의 세부 사용법\n",
    "    - 성분의 상세 설명과 효과\n",
    "    - 스트리머의 사용 후기\n",
    "    텍스트: {text}\n",
    "    '''\n",
    "    combine_prompt_template = '''아래의 텍스트에서 추출된 제품 정보를 종합해 주세요:\n",
    "    {text}\n",
    "    '''\n",
    "\n",
    "    MAP_PROMPT = PromptTemplate(template=map_prompt_template, input_variables=[\"text\"])\n",
    "    COMBINE_PROMPT = PromptTemplate(template=combine_prompt_template, input_variables=[\"text\"])\n",
    "\n",
    "    chain = load_summarize_chain(ChatOpenAI(temperature=0, model_name='gpt-4o-mini'),\n",
    "                                 chain_type=\"map_reduce\", return_intermediate_steps=True,\n",
    "                                 map_prompt=MAP_PROMPT, combine_prompt=COMBINE_PROMPT)\n",
    "\n",
    "    return chain({\"input_documents\": docs}, return_only_outputs=True)\n",
    "\n",
    "# 추출 함수 실행\n",
    "extracted_info = extract_product_info(document[0].page_content)\n",
    "print(extracted_info)\n",
    "\n",
    "# 제품명 추출\n",
    "output_text = extracted_info['output_text']\n",
    "lines = output_text.split(\"\\n\")\n",
    "\n",
    "# \"제품명\"이라는 단어를 포함한 줄을 찾아서 제품명을 추출\n",
    "product_name = None\n",
    "for line in lines:\n",
    "    if \"제품명\" in line:\n",
    "        product_name = line.split(\": \")[1]\n",
    "        break\n",
    "\n",
    "if product_name:\n",
    "    print(f\"추출된 제품명: {product_name}\")\n",
    "else:\n",
    "    print(\"제품명을 추출하지 못했습니다.\")\n"
   ]
  },
  {
   "cell_type": "markdown",
   "metadata": {},
   "source": [
    "### 4. 제품 추천"
   ]
  },
  {
   "cell_type": "code",
   "execution_count": 10,
   "metadata": {},
   "outputs": [
    {
     "name": "stdout",
     "output_type": "stream",
     "text": [
      "Title: <b>아미퓨어 갈락토 세럼미스트</b> 100ml  1개\n",
      "Link: https://link.coupang.com/re/PCSNAVERPCSDP?pageKey=8051622723&ctag=8051622723&lptag=I22583823214&itemId=22583823214&vendorItemId=89625581058&spec=10305199\n",
      "Lprice: 35000원\n",
      "-----\n",
      "Title: <b>아미퓨어 갈락토 세럼미스트</b> 100ml - 갈락토미세스 90% 함유 영양 수분 보습 수분충전 안개분사 간편휴대\n",
      "Link: https://smartstore.naver.com/main/products/10227810002\n",
      "Lprice: 35000원\n",
      "-----\n"
     ]
    }
   ],
   "source": [
    "import requests\n",
    "\n",
    "# 네이버 쇼핑 API를 사용한 제품 검색 함수\n",
    "client_id = 'juA2ijfDhrLAObXfhY6_'  # 네이버 개발자 센터에서 발급받은 Client ID\n",
    "client_secret = 'BQDR8znGZI'  # 네이버 개발자 센터에서 발급받은 Client Secret\n",
    "\n",
    "headers = {\n",
    "    'X-Naver-Client-Id': client_id,\n",
    "    'X-Naver-Client-Secret': client_secret\n",
    "}\n",
    "\n",
    "def search_product(query):\n",
    "    url = f\"https://openapi.naver.com/v1/search/shop.json?query={query}&display=10&start=1&sort=sim\"\n",
    "    response = requests.get(url, headers=headers)\n",
    "    \n",
    "    if response.status_code == 200:\n",
    "        return response.json()\n",
    "    else:\n",
    "        print(f\"Error: {response.status_code}\")\n",
    "        return None\n",
    "\n",
    "# 추출된 제품명을 사용하여 네이버 쇼핑 API로 검색\n",
    "result = search_product(product_name)\n",
    "\n",
    "if result:\n",
    "    for item in result['items']:\n",
    "        print(f\"Title: {item['title']}\")\n",
    "        print(f\"Link: {item['link']}\")\n",
    "        print(f\"Lprice: {item['lprice']}원\")\n",
    "        print(\"-----\")"
   ]
  },
  {
   "cell_type": "markdown",
   "metadata": {},
   "source": [
    "### ==============================================================================="
   ]
  },
  {
   "cell_type": "markdown",
   "metadata": {},
   "source": [
    "### 5. 코드 함수화"
   ]
  },
  {
   "cell_type": "code",
   "execution_count": null,
   "metadata": {},
   "outputs": [],
   "source": [
    "import os\n",
    "import time\n",
    "import requests\n",
    "import torch\n",
    "from transformers import AutoModelForSpeechSeq2Seq, AutoProcessor, pipeline\n",
    "from selenium import webdriver\n",
    "from selenium.webdriver.chrome.service import Service\n",
    "from selenium.webdriver.chrome.options import Options\n",
    "from langchain.document_loaders import TextLoader\n",
    "from langchain.chains.summarize import load_summarize_chain\n",
    "from langchain import PromptTemplate\n",
    "from langchain.chat_models import ChatOpenAI\n",
    "from langchain.text_splitter import RecursiveCharacterTextSplitter\n",
    "from dotenv import load_dotenv\n",
    "\n",
    "# 환경 변수 로드\n",
    "load_dotenv()\n",
    "\n",
    "def init_webdriver(headless=False):\n",
    "    options = Options()\n",
    "    options.headless = headless\n",
    "    return webdriver.Chrome(service=Service(ChromeDriverManager().install()), options=options)\n",
    "\n",
    "def fetch_shoppinglive_data(url, driver=None):\n",
    "    if driver is None:\n",
    "        driver = init_webdriver()\n",
    "    driver.get(url)\n",
    "    time.sleep(3)  # 페이지 로드 대기\n",
    "    # 데이터 수집 로직 추가 필요\n",
    "    driver.quit()\n",
    "\n",
    "def transcribe_audio(speech_output_path):\n",
    "    device = \"cuda\" if torch.cuda.is_available() else 'cpu'\n",
    "    model_id = \"openai/whisper-large-v3\"\n",
    "    \n",
    "    model = AutoModelForSpeechSeq2Seq.from_pretrained(model_id, torch_dtype=torch.float16 if device == 'cuda' else torch.float32)\n",
    "    processor = AutoProcessor.from_pretrained(model_id)\n",
    "    \n",
    "    pipe = pipeline(\n",
    "        \"automatic-speech-recognition\",\n",
    "        model=model.to(device),\n",
    "        tokenizer=processor.tokenizer,\n",
    "        feature_extractor=processor.feature_extractor,\n",
    "        max_new_tokens=64,\n",
    "        chunk_length_s=10,\n",
    "        batch_size=8,\n",
    "        return_timestamps=True,\n",
    "        torch_dtype=model.dtype,\n",
    "        device=device\n",
    "    )\n",
    "    \n",
    "    return pipe(speech_output_path)[\"text\"]\n",
    "\n",
    "def load_text_document(file_path):\n",
    "    return TextLoader(file_path, encoding='utf-8').load()\n",
    "\n",
    "def extract_product_info(text):\n",
    "    text_splitter = RecursiveCharacterTextSplitter(separators=[\"\\n\\n\", \"\\n\"], chunk_size=3000, chunk_overlap=300)\n",
    "\n",
    "    map_prompt_template = '''다음 텍스트에서 제품 정보를 추출해주세요:\n",
    "    - 제품명\n",
    "    - 주요 성분\n",
    "    - 제품 효과\n",
    "    - 사용 방법\n",
    "    - 프로모션 정보\n",
    "    - 배송일 정보\n",
    "    - 가격 정보\n",
    "    - 고객 후기\n",
    "    - 유통기한/보관 정보\n",
    "    - 구성품 정보\n",
    "    - 대상 고객\n",
    "    - 특별 주의사항\n",
    "    - 배송비 및 조건\n",
    "    - 제품의 세부 사용법\n",
    "    - 성분의 상세 설명과 효과\n",
    "    - 스트리머의 사용 후기\n",
    "    텍스트: {text}\n",
    "    '''\n",
    "    \n",
    "    combine_prompt_template = '''아래의 텍스트에서 추출된 제품 정보를 종합해 주세요:\n",
    "    {text}\n",
    "    '''\n",
    "\n",
    "    MAP_PROMPT = PromptTemplate(template=map_prompt_template, input_variables=[\"text\"])\n",
    "    COMBINE_PROMPT = PromptTemplate(template=combine_prompt_template, input_variables=[\"text\"])\n",
    "\n",
    "    chain = load_summarize_chain(ChatOpenAI(temperature=0, model_name='gpt-4o-mini'),\n",
    "                                 chain_type=\"map_reduce\", return_intermediate_steps=True,\n",
    "                                 map_prompt=MAP_PROMPT, combine_prompt=COMBINE_PROMPT)\n",
    "\n",
    "    docs = text_splitter.create_documents([text])\n",
    "    return chain({\"input_documents\": docs}, return_only_outputs=True)\n",
    "\n",
    "def extract_product_name(text):\n",
    "    for line in text.split(\"\\n\"):\n",
    "        if \"제품명\" in line:\n",
    "            return line.split(\": \")[1]\n",
    "    return None\n",
    "\n",
    "def search_product(query, client_id, client_secret):\n",
    "    headers = {\n",
    "        'X-Naver-Client-Id': client_id,\n",
    "        'X-Naver-Client-Secret': client_secret\n",
    "    }\n",
    "    url = f\"https://openapi.naver.com/v1/search/shop.json?query={query}&display=10&start=1&sort=sim\"\n",
    "    response = requests.get(url, headers=headers)\n",
    "    \n",
    "    if response.status_code == 200:\n",
    "        return response.json()\n",
    "    else:\n",
    "        print(f\"Error: {response.status_code}\")\n",
    "        return None\n",
    "\n",
    "def main(speech_output_path, client_id, client_secret):\n",
    "    text = transcribe_audio(speech_output_path)\n",
    "    document = load_text_document('./stt_file.txt')\n",
    "    \n",
    "    extracted_info = extract_product_info(document[0].page_content)\n",
    "    product_name = extract_product_name(extracted_info['output_text'])\n",
    "    \n",
    "    if not product_name:\n",
    "        print(\"제품명을 추출하지 못했습니다.\")\n",
    "        return\n",
    "\n",
    "    print(f\"추출된 제품명: {product_name}\")\n",
    "    \n",
    "    result = search_product(product_name, client_id, client_secret)\n",
    "    if result:\n",
    "        for item in result['items']:\n",
    "            print(f\"Title: {item['title']}\")\n",
    "            print(f\"Link: {item['link']}\")\n",
    "            print(f\"Lprice: {item['lprice']}원\")\n",
    "            print(\"-----\")\n",
    "\n",
    "if __name__ == \"__main__\":\n",
    "    client_id = '개인 API ID로 수정'\n",
    "    client_secret = 'API 비밀번호 수정'\n",
    "    speech_output_path = './test_video.mp3'\n",
    "    main(speech_output_path, client_id, client_secret)\n"
   ]
  }
 ],
 "metadata": {
  "kernelspec": {
   "display_name": "gumi_env310",
   "language": "python",
   "name": "python3"
  },
  "language_info": {
   "codemirror_mode": {
    "name": "ipython",
    "version": 3
   },
   "file_extension": ".py",
   "mimetype": "text/x-python",
   "name": "python",
   "nbconvert_exporter": "python",
   "pygments_lexer": "ipython3",
   "version": "3.10.14"
  }
 },
 "nbformat": 4,
 "nbformat_minor": 2
}
