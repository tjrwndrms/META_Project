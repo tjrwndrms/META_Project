{
 "cells": [
  {
   "cell_type": "code",
   "execution_count": 1,
   "metadata": {},
   "outputs": [
    {
     "data": {
      "text/plain": [
       "0"
      ]
     },
     "execution_count": 1,
     "metadata": {},
     "output_type": "execute_result"
    }
   ],
   "source": [
    "import torch\n",
    "\n",
    "# GPU 메모리 캐시를 비웁니다.\n",
    "torch.cuda.empty_cache()\n",
    "\n",
    "# PyTorch의 가비지 컬렉션을 강제로 실행합니다.\n",
    "import gc\n",
    "gc.collect()"
   ]
  },
  {
   "cell_type": "code",
   "execution_count": 2,
   "metadata": {},
   "outputs": [
    {
     "data": {
      "text/plain": [
       "{'response': '여명에 의해 큰 충격을 받은 후, 가족과 의회가 추적을 받게 되었고, 저도 이탈리아로 피신하여 아내를 잃게 되었다. 이로 인해 고독과 결박의 생각이 생겨났고, 결국 신부의 길을 선택하게 되었다. 혁명 당시 저의 심정은 충격과 슬픔, 혼란으로 가득 차 있음을 이야기하기로 했다.'}"
      ]
     },
     "execution_count": 2,
     "metadata": {},
     "output_type": "execute_result"
    }
   ],
   "source": [
    "import requests\n",
    "import json\n",
    "\n",
    "url = \"https://electric-gorgeous-spaniel.ngrok-free.app/stt-chat\"\n",
    "\n",
    "files = {\n",
    "    'voice': ('output_1.wav', open(r'C:\\Project\\Python_basic\\MetaRealm\\output_1.wav', 'rb'), 'audio/wav')\n",
    "}\n",
    "\n",
    "response = requests.post(url, files=files)\n",
    "\n",
    "response.json()"
   ]
  },
  {
   "cell_type": "code",
   "execution_count": 5,
   "metadata": {},
   "outputs": [
    {
     "name": "stdout",
     "output_type": "stream",
     "text": [
      "200\n",
      "{'message': 'wav 파일 업로드 및 처리 완료', 'file_path': 'uploaded_output_1.wav'}\n"
     ]
    }
   ],
   "source": [
    "import requests\n",
    "\n",
    "url = \"https://crappie-emerging-logically.ngrok-free.app/vocal/upload-audio\"\n",
    "file_path = \"output_1.wav\"\n",
    "\n",
    "# 파일을 'audio/wav' 형식으로 전송\n",
    "files = {\n",
    "    'file': ('output_1.wav', open(file_path, 'rb'), 'audio/wav')\n",
    "}\n",
    "\n",
    "# POST 요청으로 파일 전송\n",
    "response = requests.post(url, files=files)\n",
    "\n",
    "# 서버 응답 확인\n",
    "print(response.status_code)\n",
    "print(response.json())"
   ]
  },
  {
   "cell_type": "code",
   "execution_count": null,
   "metadata": {},
   "outputs": [],
   "source": []
  }
 ],
 "metadata": {
  "kernelspec": {
   "display_name": "gumi_env310",
   "language": "python",
   "name": "python3"
  },
  "language_info": {
   "codemirror_mode": {
    "name": "ipython",
    "version": 3
   },
   "file_extension": ".py",
   "mimetype": "text/x-python",
   "name": "python",
   "nbconvert_exporter": "python",
   "pygments_lexer": "ipython3",
   "version": "3.10.14"
  }
 },
 "nbformat": 4,
 "nbformat_minor": 2
}
