{
 "cells": [
  {
   "cell_type": "code",
   "execution_count": 3,
   "metadata": {},
   "outputs": [],
   "source": [
    "url = \"http://192.168.1.75:8000/predict/\"\n",
    "\n",
    "# base64로 인코딩된 이미지 데이터를 포함하는 JSON 파일 경로\n",
    "json_path = \"test.json\""
   ]
  },
  {
   "cell_type": "code",
   "execution_count": 4,
   "metadata": {},
   "outputs": [],
   "source": [
    "import requests\n",
    "import json"
   ]
  },
  {
   "cell_type": "code",
   "execution_count": 11,
   "metadata": {},
   "outputs": [
    {
     "name": "stdout",
     "output_type": "stream",
     "text": [
      "{'error': 'The size of tensor a (4) must match the size of tensor b (3) at non-singleton dimension 0'}\n"
     ]
    }
   ],
   "source": [
    "import requests\n",
    "import json\n",
    "\n",
    "# 서버 URL\n",
    "url = \"http://192.168.1.75:8000/predict\"\n",
    "\n",
    "# JSON 파일 경로\n",
    "json_path = \"image_base64.json\"\n",
    "\n",
    "# JSON 파일을 읽어옴\n",
    "with open(json_path, \"r\") as json_file:\n",
    "    image_data = json.load(json_file)\n",
    "\n",
    "# 'image_base64' 필드에 있는 base64 인코딩된 이미지 데이터를 가져옴\n",
    "encoded_image = image_data['image_base64']\n",
    "\n",
    "# JSON 데이터 생성\n",
    "payload = {\n",
    "    \"image_data\": encoded_image  # 인코딩된 이미지를 'image_data'로 저장\n",
    "}\n",
    "\n",
    "# JSON 데이터 전송\n",
    "response = requests.post(url, json=payload)\n",
    "\n",
    "# 서버로부터 받은 응답 출력\n",
    "print(response.json())  # 서버에서 반환한 JSON 응답 출력\n"
   ]
  },
  {
   "cell_type": "code",
   "execution_count": 3,
   "metadata": {},
   "outputs": [
    {
     "name": "stdout",
     "output_type": "stream",
     "text": [
      "{'guidance': '페트병 분리수거를 도와줄게! 첫 번째로, 페트병의 내용물을 완전히 비워줘야 해.'}\n"
     ]
    }
   ],
   "source": [
    "import requests\n",
    "\n",
    "# 서버 URL\n",
    "url = \"http://192.168.1.75:8000/recycle-guide\"  # 분리수거 가이드를 요청하는 엔드포인트\n",
    "\n",
    "# 질문 데이터\n",
    "question = \"페트병 분리수거 알려줘\"\n",
    "\n",
    "# JSON 데이터 생성\n",
    "payload = {\n",
    "    \"question\": question  # 'question' 필드에 사용자의 질문을 넣음\n",
    "}\n",
    "\n",
    "# JSON 데이터 전송\n",
    "response = requests.post(url, json=payload)\n",
    "\n",
    "# 서버로부터 받은 응답 출력\n",
    "print(response.json())  # 서버에서 반환한 JSON 응답 출력"
   ]
  },
  {
   "cell_type": "code",
   "execution_count": 4,
   "metadata": {},
   "outputs": [
    {
     "name": "stdout",
     "output_type": "stream",
     "text": [
      "{'guidance': '좋아, 이제 두 번째로, 페트병을 압축해서 부피를 줄여보자!'}\n"
     ]
    }
   ],
   "source": [
    "# JSON 데이터 전송\n",
    "response = requests.post(url, json=payload)\n",
    "\n",
    "# 서버로부터 받은 응답 출력\n",
    "print(response.json())  # 서버에서 반환한 JSON 응답 출력"
   ]
  },
  {
   "cell_type": "code",
   "execution_count": null,
   "metadata": {},
   "outputs": [],
   "source": []
  }
 ],
 "metadata": {
  "kernelspec": {
   "display_name": "gumi_env310",
   "language": "python",
   "name": "python3"
  },
  "language_info": {
   "codemirror_mode": {
    "name": "ipython",
    "version": 3
   },
   "file_extension": ".py",
   "mimetype": "text/x-python",
   "name": "python",
   "nbconvert_exporter": "python",
   "pygments_lexer": "ipython3",
   "version": "3.10.14"
  }
 },
 "nbformat": 4,
 "nbformat_minor": 2
}
